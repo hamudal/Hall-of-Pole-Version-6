{
 "cells": [
  {
   "cell_type": "code",
   "execution_count": 1,
   "metadata": {},
   "outputs": [],
   "source": [
    "import pandas as pd"
   ]
  },
  {
   "cell_type": "code",
   "execution_count": 3,
   "metadata": {},
   "outputs": [
    {
     "data": {
      "text/html": [
       "<div>\n",
       "<style scoped>\n",
       "    .dataframe tbody tr th:only-of-type {\n",
       "        vertical-align: middle;\n",
       "    }\n",
       "\n",
       "    .dataframe tbody tr th {\n",
       "        vertical-align: top;\n",
       "    }\n",
       "\n",
       "    .dataframe thead th {\n",
       "        text-align: right;\n",
       "    }\n",
       "</style>\n",
       "<table border=\"1\" class=\"dataframe\">\n",
       "  <thead>\n",
       "    <tr style=\"text-align: right;\">\n",
       "      <th></th>\n",
       "      <th>Pole Studio</th>\n",
       "      <th>Stadt</th>\n",
       "      <th>Land</th>\n",
       "      <th>Adresse</th>\n",
       "      <th>PLZ</th>\n",
       "      <th>Telefonnummer</th>\n",
       "      <th>E-Mail-Adresse</th>\n",
       "      <th>Webseite</th>\n",
       "      <th>Facebook</th>\n",
       "      <th>Instagram</th>\n",
       "      <th>...</th>\n",
       "      <th>Beschreibung</th>\n",
       "      <th>Updated Date</th>\n",
       "      <th>Owner</th>\n",
       "      <th>Created Date</th>\n",
       "      <th>Bildergalerie</th>\n",
       "      <th>Richtigkeit der Angaben</th>\n",
       "      <th>Pole Studios (Pole Studio)</th>\n",
       "      <th>Online Studios (Pole Studio)</th>\n",
       "      <th>Inaktiv</th>\n",
       "      <th>Löschvermerk</th>\n",
       "    </tr>\n",
       "  </thead>\n",
       "  <tbody>\n",
       "    <tr>\n",
       "      <th>0</th>\n",
       "      <td>Seemannsbraut Poledance Flensburg</td>\n",
       "      <td>Flensburg</td>\n",
       "      <td>Deutschland</td>\n",
       "      <td>{\"subdivisions\":[{\"code\":\"SH\",\"name\":\"Schleswi...</td>\n",
       "      <td>24941</td>\n",
       "      <td>15163300769</td>\n",
       "      <td>seemannsbraut-poledance@web.de</td>\n",
       "      <td>https://www.seemannsbraut-poledance.de/</td>\n",
       "      <td>https://www.facebook.com/SeemannsbrautPoledance</td>\n",
       "      <td>https://www.instagram.com/seemannsbraut_poleda...</td>\n",
       "      <td>...</td>\n",
       "      <td>NaN</td>\n",
       "      <td>2023-05-22T17:46:06Z</td>\n",
       "      <td>284241e1-0e53-4183-b67f-34edcfb7c8b1</td>\n",
       "      <td>2022-11-18T11:57:31Z</td>\n",
       "      <td>NaN</td>\n",
       "      <td>NaN</td>\n",
       "      <td>/polestudio/seemannsbraut-poledance-flensburg</td>\n",
       "      <td>/onlinestudio/seemannsbraut-poledance-flensburg</td>\n",
       "      <td>NaN</td>\n",
       "      <td>NaN</td>\n",
       "    </tr>\n",
       "    <tr>\n",
       "      <th>1</th>\n",
       "      <td>TSG Blau Gold Ballett- und Pole-dance- Studio</td>\n",
       "      <td>Gießen</td>\n",
       "      <td>Deutschland</td>\n",
       "      <td>{\"subdivisions\":[{\"code\":\"HE\",\"name\":\"Hessen\",...</td>\n",
       "      <td>35390</td>\n",
       "      <td>0491 621606468</td>\n",
       "      <td>tanz-giessen@gmx.de</td>\n",
       "      <td>https://www.tsg-giessen.de/angebote/tanz/poled...</td>\n",
       "      <td>https://www.facebook.com/poledancegiessen.de</td>\n",
       "      <td>https://www.instagram.com/tsg_blaugoldgiessen....</td>\n",
       "      <td>...</td>\n",
       "      <td>NaN</td>\n",
       "      <td>2023-05-22T17:46:06Z</td>\n",
       "      <td>284241e1-0e53-4183-b67f-34edcfb7c8b1</td>\n",
       "      <td>2022-11-18T11:57:31Z</td>\n",
       "      <td>NaN</td>\n",
       "      <td>NaN</td>\n",
       "      <td>/polestudio/tsg-blau-gold-ballett--und-pole-da...</td>\n",
       "      <td>/onlinestudio/tsg-blau-gold-ballett--und-pole-...</td>\n",
       "      <td>NaN</td>\n",
       "      <td>NaN</td>\n",
       "    </tr>\n",
       "  </tbody>\n",
       "</table>\n",
       "<p>2 rows × 23 columns</p>\n",
       "</div>"
      ],
      "text/plain": [
       "                                     Pole Studio      Stadt         Land  \\\n",
       "0              Seemannsbraut Poledance Flensburg  Flensburg  Deutschland   \n",
       "1  TSG Blau Gold Ballett- und Pole-dance- Studio     Gießen  Deutschland   \n",
       "\n",
       "                                             Adresse    PLZ   Telefonnummer  \\\n",
       "0  {\"subdivisions\":[{\"code\":\"SH\",\"name\":\"Schleswi...  24941     15163300769   \n",
       "1  {\"subdivisions\":[{\"code\":\"HE\",\"name\":\"Hessen\",...  35390  0491 621606468   \n",
       "\n",
       "                   E-Mail-Adresse  \\\n",
       "0  seemannsbraut-poledance@web.de   \n",
       "1             tanz-giessen@gmx.de   \n",
       "\n",
       "                                            Webseite  \\\n",
       "0            https://www.seemannsbraut-poledance.de/   \n",
       "1  https://www.tsg-giessen.de/angebote/tanz/poled...   \n",
       "\n",
       "                                          Facebook  \\\n",
       "0  https://www.facebook.com/SeemannsbrautPoledance   \n",
       "1     https://www.facebook.com/poledancegiessen.de   \n",
       "\n",
       "                                           Instagram  ... Beschreibung  \\\n",
       "0  https://www.instagram.com/seemannsbraut_poleda...  ...          NaN   \n",
       "1  https://www.instagram.com/tsg_blaugoldgiessen....  ...          NaN   \n",
       "\n",
       "           Updated Date                                 Owner  \\\n",
       "0  2023-05-22T17:46:06Z  284241e1-0e53-4183-b67f-34edcfb7c8b1   \n",
       "1  2023-05-22T17:46:06Z  284241e1-0e53-4183-b67f-34edcfb7c8b1   \n",
       "\n",
       "           Created Date Bildergalerie Richtigkeit der Angaben  \\\n",
       "0  2022-11-18T11:57:31Z           NaN                     NaN   \n",
       "1  2022-11-18T11:57:31Z           NaN                     NaN   \n",
       "\n",
       "                          Pole Studios (Pole Studio)  \\\n",
       "0      /polestudio/seemannsbraut-poledance-flensburg   \n",
       "1  /polestudio/tsg-blau-gold-ballett--und-pole-da...   \n",
       "\n",
       "                        Online Studios (Pole Studio) Inaktiv Löschvermerk  \n",
       "0    /onlinestudio/seemannsbraut-poledance-flensburg     NaN          NaN  \n",
       "1  /onlinestudio/tsg-blau-gold-ballett--und-pole-...     NaN          NaN  \n",
       "\n",
       "[2 rows x 23 columns]"
      ]
     },
     "execution_count": 3,
     "metadata": {},
     "output_type": "execute_result"
    }
   ],
   "source": [
    "didi_polestudios_csv = pd.read_csv(\"Pole Studios (1).csv\")\n",
    "didi_polestudios_csv[:2]"
   ]
  },
  {
   "cell_type": "code",
   "execution_count": 4,
   "metadata": {},
   "outputs": [
    {
     "data": {
      "text/plain": [
       "Index(['Pole Studio', 'Stadt', 'Land', 'Adresse', 'PLZ', 'Telefonnummer',\n",
       "       'E-Mail-Adresse', 'Webseite', 'Facebook', 'Instagram', 'Art', 'ID',\n",
       "       'Angebot', 'Beschreibung', 'Updated Date', 'Owner', 'Created Date',\n",
       "       'Bildergalerie', 'Richtigkeit der Angaben',\n",
       "       'Pole Studios (Pole Studio)', 'Online Studios (Pole Studio)', 'Inaktiv',\n",
       "       'Löschvermerk'],\n",
       "      dtype='object')"
      ]
     },
     "execution_count": 4,
     "metadata": {},
     "output_type": "execute_result"
    }
   ],
   "source": [
    "didi_polestudios_csv.columns"
   ]
  },
  {
   "cell_type": "code",
   "execution_count": null,
   "metadata": {},
   "outputs": [],
   "source": []
  }
 ],
 "metadata": {
  "kernelspec": {
   "display_name": "Python 3",
   "language": "python",
   "name": "python3"
  },
  "language_info": {
   "codemirror_mode": {
    "name": "ipython",
    "version": 3
   },
   "file_extension": ".py",
   "mimetype": "text/x-python",
   "name": "python",
   "nbconvert_exporter": "python",
   "pygments_lexer": "ipython3",
   "version": "3.12.1"
  }
 },
 "nbformat": 4,
 "nbformat_minor": 2
}
