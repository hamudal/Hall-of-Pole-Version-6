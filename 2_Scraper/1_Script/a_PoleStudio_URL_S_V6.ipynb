{
 "cells": [
  {
   "cell_type": "code",
   "execution_count": 2,
   "metadata": {},
   "outputs": [],
   "source": [
    "import requests\n",
    "from bs4 import BeautifulSoup\n",
    "from datetime import datetime\n",
    "import pandas as pd"
   ]
  },
  {
   "cell_type": "code",
   "execution_count": 6,
   "metadata": {},
   "outputs": [],
   "source": [
    "url_s = \"https://www.eversports.de/s/poda-studio\"\n",
    "url_list_s = [\"https://www.eversports.de/s/poda-studio\", \"https://www.eversports.de/s/nordpole\"]"
   ]
  },
  {
   "cell_type": "code",
   "execution_count": 16,
   "metadata": {},
   "outputs": [],
   "source": [
    "response_s = requests.get(url_s)\n",
    "\n",
    "polestudio_soup = BeautifulSoup(response_s.content, 'html.parser')"
   ]
  },
  {
   "cell_type": "code",
   "execution_count": 17,
   "metadata": {},
   "outputs": [
    {
     "name": "stdout",
     "output_type": "stream",
     "text": [
      "['Übersicht', 'Klassen', 'Workshops', 'Videos', 'Preise', 'Team']\n"
     ]
    }
   ],
   "source": [
    "def extract_overview_buttons(polestudio_soup):\n",
    "    # Finden aller 'div' mit der angegebenen Klasse\n",
    "    buttons_divs = polestudio_soup.find_all('div', class_=\"MuiStack-root css-sgccrm\")\n",
    "\n",
    "    # List Comprehension, um Texte aller 'a'-Elemente in jedem 'div' zu extrahieren\n",
    "    button_texts = [button.text for div in buttons_divs for button in div.find_all('a')]\n",
    "    return button_texts\n",
    "\n",
    "# Aufruf der Funktion mit dem Beautifulpolestudio_soup-Objekt\n",
    "buttons_list = extract_overview_buttons(polestudio_soup)\n",
    "print(buttons_list)\n"
   ]
  },
  {
   "cell_type": "code",
   "execution_count": null,
   "metadata": {},
   "outputs": [],
   "source": [
    "# Hier beginnen die Extraktionsfunktionen\n",
    "def extract_overview_buttons(soup):\n",
    "    buttons = soup.find_all('div', class_=\"MuiStack-root css-sgccrm\")\n",
    "    return [button.text for div in buttons for button in div.find_all('a')]\n",
    "\n",
    "def extract_pole_studio_name(soup):\n",
    "    name_element = soup.find('h1', class_='MuiTypography-root MuiTypography-h1 css-qinhw0')\n",
    "    return name_element.text if name_element else None\n",
    "\n",
    "def extract_contact_info(soup):\n",
    "    contact_divs = soup.find_all('div', class_='css-1x2phcg')\n",
    "    contact_info = {'E-Mail': None, 'Homepage': None, 'Telefon': None}\n",
    "    for div in contact_divs:\n",
    "        for a in div.find_all('a', href=True):\n",
    "            href = a['href']\n",
    "            if href.startswith('mailto:'):\n",
    "                contact_info[\"E-Mail\"] = href.replace('mailto:', '')\n",
    "            elif href.startswith('tel:'):\n",
    "                contact_info[\"Telefon\"] = href.replace('tel:', '')\n",
    "            else:\n",
    "                contact_info[\"Homepage\"] = href\n",
    "    return contact_info\n",
    "\n",
    "def extract_address(soup):\n",
    "    address_element = soup.find('p', class_='MuiTypography-root MuiTypography-body1 css-1619old')\n",
    "    if address_element:\n",
    "        address_text = address_element.text.split(',')\n",
    "        return address_text, address_text[1].split(\" \")[2], address_text[1].split(\" \")[1], address_text[0]\n",
    "    return None, None, None, None\n",
    "\n",
    "def extract_description(soup):\n",
    "    description_element = soup.find('div', class_=\"MuiBox-root css-0\")\n",
    "    return description_element.text if description_element else None\n",
    "\n",
    "def extract_rating(soup):\n",
    "    rating_element = soup.find('p', class_='MuiTypography-root MuiTypography-body1 css-2g7rhg')\n",
    "    if rating_element:\n",
    "        parts = rating_element.text.split('(')\n",
    "        return parts[0].strip(), parts[1].replace(')', '').strip()\n",
    "    return None, None\n",
    "\n",
    "def extract_rating_factors(soup):\n",
    "    items = soup.find_all('div', class_='MuiStack-root css-95g4uk')\n",
    "    return [f\"{item.find('p', class_='MuiTypography-root MuiTypography-body1 css-1k55edk').text}: {item.find('p', class_='MuiTypography-root MuiTypography-body1 css-1y0caop').text}\" for item in items if item.find('p', class_='MuiTypography-root MuiTypography-body1 css-1k55edk') and item.find('p', class_='MuiTypography-root MuiTypography-body1 css-1y0caop')]\n",
    "\n",
    "def extract_art(soup):\n",
    "    art_elements = soup.find_all(\"p\", class_=\"MuiTypography-root MuiTypography-body1 css-6ik050\")\n",
    "    return [art.text for art in art_elements]\n",
    "\n",
    "def extract_sale(soup):\n",
    "    sale_element = soup.find(\"p\", class_=\"MuiTypography-root MuiTypography-body1 css-153qxhx\")\n",
    "    return sale_element.text if sale_element else None\n",
    "\n",
    "def extract_image_urls(soup):\n",
    "    pictures = soup.find_all(\"div\", class_=\"MuiBox-root css-1fivxf\")\n",
    "    return [img[\"src\"] for div in pictures if (img := div.find(\"img\")) and img.has_attr(\"src\")]"
   ]
  }
 ],
 "metadata": {
  "kernelspec": {
   "display_name": "Python 3",
   "language": "python",
   "name": "python3"
  },
  "language_info": {
   "codemirror_mode": {
    "name": "ipython",
    "version": 3
   },
   "file_extension": ".py",
   "mimetype": "text/x-python",
   "name": "python",
   "nbconvert_exporter": "python",
   "pygments_lexer": "ipython3",
   "version": "3.12.1"
  }
 },
 "nbformat": 4,
 "nbformat_minor": 2
}
